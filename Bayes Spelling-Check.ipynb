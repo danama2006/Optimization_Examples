{
 "cells": [
  {
   "cell_type": "markdown",
   "metadata": {},
   "source": [
    "###  Bayes Spelling-Check ###"
   ]
  },
  {
   "cell_type": "markdown",
   "metadata": {},
   "source": [
    "### Problem Statment：Find the correct word when user type a wrong one\n",
    "#### Target:   argmaxc P(c|w) \n",
    "#### Equivalent to:   argmaxc P(w|c) P(c) / P(w) \n",
    "\n",
    "* P(c) -- the probability that a correctly spelled word c appears in the article,\n",
    "* P(w|c) -- the probability of typing w when the user wants to enter c.\n",
    "* argmaxc -- enumerate all possible c and select the most probable\n",
    "* argmaxc P(c|w) -- the pobability of correct word c if user type wrong word w -- the target word"
   ]
  },
  {
   "cell_type": "code",
   "execution_count": 1,
   "metadata": {},
   "outputs": [],
   "source": [
    "import re\n",
    "import collections"
   ]
  },
  {
   "cell_type": "code",
   "execution_count": 2,
   "metadata": {},
   "outputs": [],
   "source": [
    "# find all word from a given word library -- make sure no wrong spelling in the library\n",
    "def words(text): \n",
    "    return re.findall('[a-z]+', text.lower()) \n"
   ]
  },
  {
   "cell_type": "code",
   "execution_count": 3,
   "metadata": {},
   "outputs": [],
   "source": [
    "# count the word appearance frequency, start from value 1\n",
    "def wordtrain(features):\n",
    "    model = collections.defaultdict(lambda: 1)\n",
    "    for f in features:\n",
    "        model[f] += 1\n",
    "    return model"
   ]
  },
  {
   "cell_type": "code",
   "execution_count": 4,
   "metadata": {},
   "outputs": [],
   "source": [
    "wordlist = words(open('wordlibrary_example.txt').read())"
   ]
  },
  {
   "cell_type": "code",
   "execution_count": 5,
   "metadata": {
    "scrolled": true
   },
   "outputs": [],
   "source": [
    "NWORDS = wordtrain(wordlist)"
   ]
  },
  {
   "cell_type": "code",
   "execution_count": 6,
   "metadata": {},
   "outputs": [],
   "source": [
    "alphabet = 'abcdefghijklmnopqrstuvwxyz'"
   ]
  },
  {
   "cell_type": "code",
   "execution_count": 7,
   "metadata": {},
   "outputs": [],
   "source": [
    "# return words which have distance 1 to word w\n",
    "# the distance is defined as 1 letter different from w, found by 4 ways\n",
    "def calcStringdistance1(word):\n",
    "    n = len(word)\n",
    "    return set([word[0:i]+word[i+1:] for i in range(n)] +                     # deletion\n",
    "               [word[0:i]+word[i+1]+word[i]+word[i+2:] for i in range(n-1)] + # transposition\n",
    "               [word[0:i]+c+word[i+1:] for i in range(n) for c in alphabet] + # alteration\n",
    "               [word[0:i]+c+word[i:] for i in range(n+1) for c in alphabet])  # insertion\n",
    "\n",
    "# choose words which have distane 2 to word w\n",
    "def pick_words(word):\n",
    "    return set(e2 for e1 in calcStringdistance1(word) for e2 in calcStringdistance1(e1) if e2 in NWORDS)\n",
    "\n",
    "# choose words which shown in the library\n",
    "def known(words): \n",
    "    return set(w for w in words if w in NWORDS)\n"
   ]
  },
  {
   "cell_type": "code",
   "execution_count": 16,
   "metadata": {},
   "outputs": [],
   "source": [
    "# if known(set) is no empty, choose candidate from this set and stop calculation\n",
    "def correctWord(word):\n",
    "    candidates = known([word]) or known(calcStringdistance1(word)) or pick_words(word) or [word]\n",
    "    #print('candidate words are: ', candidates)\n",
    "    return max(candidates, key=lambda w: NWORDS[w])"
   ]
  },
  {
   "cell_type": "code",
   "execution_count": 17,
   "metadata": {},
   "outputs": [
    {
     "name": "stdout",
     "output_type": "stream",
     "text": [
      "candidate words are:  {'apple', 'apply'}\n"
     ]
    },
    {
     "data": {
      "text/plain": [
       "'apply'"
      ]
     },
     "execution_count": 17,
     "metadata": {},
     "output_type": "execute_result"
    }
   ],
   "source": [
    "#appl #appla #learw #tess #morw\n",
    "correctWord('appla')"
   ]
  },
  {
   "cell_type": "code",
   "execution_count": 18,
   "metadata": {},
   "outputs": [
    {
     "name": "stdout",
     "output_type": "stream",
     "text": [
      "candidate words are:  {'someday'}\n"
     ]
    },
    {
     "data": {
      "text/plain": [
       "'someday'"
      ]
     },
     "execution_count": 18,
     "metadata": {},
     "output_type": "execute_result"
    }
   ],
   "source": [
    "correctWord('somedya')"
   ]
  },
  {
   "cell_type": "code",
   "execution_count": null,
   "metadata": {},
   "outputs": [],
   "source": []
  }
 ],
 "metadata": {
  "anaconda-cloud": {},
  "kernelspec": {
   "display_name": "Python 3",
   "language": "python",
   "name": "python3"
  },
  "language_info": {
   "codemirror_mode": {
    "name": "ipython",
    "version": 3
   },
   "file_extension": ".py",
   "mimetype": "text/x-python",
   "name": "python",
   "nbconvert_exporter": "python",
   "pygments_lexer": "ipython3",
   "version": "3.6.8"
  }
 },
 "nbformat": 4,
 "nbformat_minor": 1
}
