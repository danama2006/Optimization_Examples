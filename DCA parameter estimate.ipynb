{
 "cells": [
  {
   "cell_type": "markdown",
   "metadata": {},
   "source": [
    "### This is a simple example for DCA parameter calculation by Scipy optimization method"
   ]
  },
  {
   "cell_type": "code",
   "execution_count": 32,
   "metadata": {},
   "outputs": [],
   "source": [
    "import pandas as pd\n",
    "import matplotlib.pyplot as plt\n",
    "from scipy.optimize import curve_fit\n",
    "import numpy as np"
   ]
  },
  {
   "cell_type": "code",
   "execution_count": 33,
   "metadata": {},
   "outputs": [],
   "source": [
    "def DCAfunc(time, qi, b, Di):\n",
    "    return qi/(1+b*Di*time)**(1/b)"
   ]
  },
  {
   "cell_type": "code",
   "execution_count": 34,
   "metadata": {},
   "outputs": [
    {
     "data": {
      "text/html": [
       "<div>\n",
       "<style scoped>\n",
       "    .dataframe tbody tr th:only-of-type {\n",
       "        vertical-align: middle;\n",
       "    }\n",
       "\n",
       "    .dataframe tbody tr th {\n",
       "        vertical-align: top;\n",
       "    }\n",
       "\n",
       "    .dataframe thead th {\n",
       "        text-align: right;\n",
       "    }\n",
       "</style>\n",
       "<table border=\"1\" class=\"dataframe\">\n",
       "  <thead>\n",
       "    <tr style=\"text-align: right;\">\n",
       "      <th></th>\n",
       "      <th>Months</th>\n",
       "      <th>Rate</th>\n",
       "    </tr>\n",
       "  </thead>\n",
       "  <tbody>\n",
       "    <tr>\n",
       "      <td>0</td>\n",
       "      <td>1</td>\n",
       "      <td>798.95</td>\n",
       "    </tr>\n",
       "    <tr>\n",
       "      <td>1</td>\n",
       "      <td>2</td>\n",
       "      <td>818.13</td>\n",
       "    </tr>\n",
       "    <tr>\n",
       "      <td>2</td>\n",
       "      <td>3</td>\n",
       "      <td>650.40</td>\n",
       "    </tr>\n",
       "    <tr>\n",
       "      <td>3</td>\n",
       "      <td>4</td>\n",
       "      <td>454.44</td>\n",
       "    </tr>\n",
       "    <tr>\n",
       "      <td>4</td>\n",
       "      <td>5</td>\n",
       "      <td>563.06</td>\n",
       "    </tr>\n",
       "  </tbody>\n",
       "</table>\n",
       "</div>"
      ],
      "text/plain": [
       "   Months    Rate\n",
       "0       1  798.95\n",
       "1       2  818.13\n",
       "2       3  650.40\n",
       "3       4  454.44\n",
       "4       5  563.06"
      ]
     },
     "execution_count": 34,
     "metadata": {},
     "output_type": "execute_result"
    }
   ],
   "source": [
    "df=pd.read_csv('DCA_input.csv')\n",
    "df.head()"
   ]
  },
  {
   "cell_type": "code",
   "execution_count": 25,
   "metadata": {},
   "outputs": [
    {
     "name": "stdout",
     "output_type": "stream",
     "text": [
      "DCA hypobolic parameters are: qi=1215.5, b=1.98, Di=0.51\n"
     ]
    }
   ],
   "source": [
    "# Fit for the parameters of the DCA function:\n",
    "para_opt, pcov = curve_fit(DCAfunc, df.Months, df.Rate)\n",
    "print('DCA hypobolic parameters are: qi=%3.1f, b=%1.2f, Di=%1.2f' %(para_opt[0], para_opt[1], para_opt[2]))"
   ]
  },
  {
   "cell_type": "code",
   "execution_count": 28,
   "metadata": {},
   "outputs": [],
   "source": [
    "newtime = np.arange(25, 49)\n",
    "pred = DCAfunc(newtime, para_opt[0], para_opt[1], para_opt[2])"
   ]
  },
  {
   "cell_type": "code",
   "execution_count": 31,
   "metadata": {},
   "outputs": [
    {
     "data": {
      "image/png": "[encoded data removed]",
      "text/plain": [
       "<Figure size 432x288 with 1 Axes>"
      ]
     },
     "metadata": {
      "needs_background": "light"
     },
     "output_type": "display_data"
    }
   ],
   "source": [
    "plt.figure()\n",
    "# raw prod data\n",
    "plt.plot(df.Months, df.Rate, 'b-', label='prod data')\n",
    "# data from curve fitting\n",
    "plt.plot(df.Months, DCAfunc(df.Months, *para_opt), 'r-', label='fit: qi=%3.1f, b=%1.2f, Di=%1.2f' % tuple(para_opt))\n",
    "# data from prediction\n",
    "plt.plot(newtime, pred, 'r--', label='predict data')\n",
    "plt.xlabel(\"Month\")\n",
    "plt.ylabel(\"Production, bbl/Day\")\n",
    "plt.legend()\n",
    "plt.show()"
   ]
  },
  {
   "cell_type": "markdown",
   "metadata": {},
   "source": [
    "### Here initial production qi has the different (larger) value compared with true production data\n",
    "\n",
    "### so we can put a boundary for the parameter fitting:"
   ]
  },
  {
   "cell_type": "code",
   "execution_count": 36,
   "metadata": {},
   "outputs": [
    {
     "name": "stdout",
     "output_type": "stream",
     "text": [
      "DCA hypobolic parameters are: qi=818.1, b=1.32, Di=0.14\n"
     ]
    }
   ],
   "source": [
    "para_opt, pcov = curve_fit(DCAfunc, df.Months, df.Rate, bounds=(0, [max(df.Rate), 2, 1]))\n",
    "print('DCA hypobolic parameters are: qi=%3.1f, b=%1.2f, Di=%1.2f' %(para_opt[0], para_opt[1], para_opt[2]))"
   ]
  },
  {
   "cell_type": "code",
   "execution_count": 54,
   "metadata": {},
   "outputs": [
    {
     "name": "stdout",
     "output_type": "stream",
     "text": [
      "First three months production: \n",
      "0    720.319826\n",
      "1    645.940128\n",
      "2    587.239486\n",
      "Name: Months, dtype: float64\n"
     ]
    }
   ],
   "source": [
    "y = DCAfunc(df.Months, *para_opt)\n",
    "print('First three months production: ')\n",
    "print(y[0:3])"
   ]
  },
  {
   "cell_type": "markdown",
   "metadata": {},
   "source": [
    "### It shows qi is much smaller than the real prod data. And all these differnce (larger/smaller) are caused by the hyperbolic equation we use. So choose hyperbolic parameters only based on your judgement."
   ]
  },
  {
   "cell_type": "markdown",
   "metadata": {},
   "source": [
    "### Now let see how the curve goes:"
   ]
  },
  {
   "cell_type": "code",
   "execution_count": 52,
   "metadata": {},
   "outputs": [],
   "source": [
    "newtime = np.arange(25, 49)\n",
    "pred = DCAfunc(newtime, para_opt[0], para_opt[1], para_opt[2])"
   ]
  },
  {
   "cell_type": "code",
   "execution_count": 53,
   "metadata": {},
   "outputs": [
    {
     "data": {
      "image/png": "[encoded data removed]",
      "text/plain": [
       "<Figure size 432x288 with 1 Axes>"
      ]
     },
     "metadata": {
      "needs_background": "light"
     },
     "output_type": "display_data"
    }
   ],
   "source": [
    "newtime = np.arange(25, 49)\n",
    "pred = DCAfunc(newtime, para_opt[0], para_opt[1], para_opt[2])\n",
    "plt.figure()\n",
    "# raw prod data\n",
    "plt.plot(df.Months, df.Rate, 'b-', label='prod data')\n",
    "# data from curve fitting\n",
    "plt.plot(np.append(0,[df.Months]), np.append(para_opt[0], DCAfunc(df.Months, *para_opt)), 'r-', label='fit: qi=%3.1f, b=%1.2f, Di=%1.2f' % tuple(para_opt))\n",
    "# data from prediction\n",
    "plt.plot(newtime, pred, 'r--', label='predict data')\n",
    "plt.xlabel(\"Month\")\n",
    "plt.ylabel(\"Production, bbl/Day\")\n",
    "plt.legend()\n",
    "plt.show()"
   ]
  }
 ],
 "metadata": {
  "kernelspec": {
   "display_name": "Python 3",
   "language": "python",
   "name": "python3"
  },
  "language_info": {
   "codemirror_mode": {
    "name": "ipython",
    "version": 3
   },
   "file_extension": ".py",
   "mimetype": "text/x-python",
   "name": "python",
   "nbconvert_exporter": "python",
   "pygments_lexer": "ipython3",
   "version": "3.7.4"
  }
 },
 "nbformat": 4,
 "nbformat_minor": 4
}
